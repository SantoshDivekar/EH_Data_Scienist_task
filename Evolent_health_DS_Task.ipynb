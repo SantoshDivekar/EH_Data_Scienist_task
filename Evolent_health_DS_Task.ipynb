{
 "cells": [
  {
   "cell_type": "code",
   "execution_count": 1,
   "id": "644003eb",
   "metadata": {},
   "outputs": [
    {
     "name": "stderr",
     "output_type": "stream",
     "text": [
      "[nltk_data] Downloading package vader_lexicon to\n",
      "[nltk_data]     C:\\Users\\gg\\AppData\\Roaming\\nltk_data...\n",
      "[nltk_data]   Package vader_lexicon is already up-to-date!\n"
     ]
    }
   ],
   "source": [
    "import pandas as pd\n",
    "import numpy as np\n",
    "import seaborn as sns\n",
    "import matplotlib.pyplot as plt\n",
    "import datetime as dt\n",
    "import nltk\n",
    "nltk.download('vader_lexicon')\n",
    "from nltk.sentiment.vader import SentimentIntensityAnalyzer\n",
    "from nltk.stem.snowball import SnowballStemmer"
   ]
  },
  {
   "cell_type": "code",
   "execution_count": 2,
   "id": "c61a75c8",
   "metadata": {},
   "outputs": [
    {
     "data": {
      "text/plain": [
       "(528870, 13)"
      ]
     },
     "execution_count": 2,
     "metadata": {},
     "output_type": "execute_result"
    }
   ],
   "source": [
    "data = pd.read_csv(\"BeerDataScienceProject.csv\",encoding='latin-1') #read csv file\n",
    "data.shape"
   ]
  },
  {
   "cell_type": "code",
   "execution_count": 3,
   "id": "da2fb712",
   "metadata": {},
   "outputs": [
    {
     "data": {
      "text/html": [
       "<div>\n",
       "<style scoped>\n",
       "    .dataframe tbody tr th:only-of-type {\n",
       "        vertical-align: middle;\n",
       "    }\n",
       "\n",
       "    .dataframe tbody tr th {\n",
       "        vertical-align: top;\n",
       "    }\n",
       "\n",
       "    .dataframe thead th {\n",
       "        text-align: right;\n",
       "    }\n",
       "</style>\n",
       "<table border=\"1\" class=\"dataframe\">\n",
       "  <thead>\n",
       "    <tr style=\"text-align: right;\">\n",
       "      <th></th>\n",
       "      <th>beer_ABV</th>\n",
       "      <th>beer_beerId</th>\n",
       "      <th>beer_brewerId</th>\n",
       "      <th>beer_name</th>\n",
       "      <th>beer_style</th>\n",
       "      <th>review_appearance</th>\n",
       "      <th>review_palette</th>\n",
       "      <th>review_overall</th>\n",
       "      <th>review_taste</th>\n",
       "      <th>review_profileName</th>\n",
       "      <th>review_aroma</th>\n",
       "      <th>review_text</th>\n",
       "      <th>review_time</th>\n",
       "    </tr>\n",
       "  </thead>\n",
       "  <tbody>\n",
       "    <tr>\n",
       "      <th>0</th>\n",
       "      <td>5.0</td>\n",
       "      <td>47986</td>\n",
       "      <td>10325</td>\n",
       "      <td>Sausa Weizen</td>\n",
       "      <td>Hefeweizen</td>\n",
       "      <td>2.5</td>\n",
       "      <td>2.0</td>\n",
       "      <td>1.5</td>\n",
       "      <td>1.5</td>\n",
       "      <td>stcules</td>\n",
       "      <td>1.5</td>\n",
       "      <td>A lot of foam. But a lot. In the smell some ba...</td>\n",
       "      <td>1234817823</td>\n",
       "    </tr>\n",
       "    <tr>\n",
       "      <th>1</th>\n",
       "      <td>6.2</td>\n",
       "      <td>48213</td>\n",
       "      <td>10325</td>\n",
       "      <td>Red Moon</td>\n",
       "      <td>English Strong Ale</td>\n",
       "      <td>3.0</td>\n",
       "      <td>2.5</td>\n",
       "      <td>3.0</td>\n",
       "      <td>3.0</td>\n",
       "      <td>stcules</td>\n",
       "      <td>3.0</td>\n",
       "      <td>Dark red color, light beige foam, average. In ...</td>\n",
       "      <td>1235915097</td>\n",
       "    </tr>\n",
       "  </tbody>\n",
       "</table>\n",
       "</div>"
      ],
      "text/plain": [
       "   beer_ABV  beer_beerId  beer_brewerId     beer_name          beer_style  \\\n",
       "0       5.0        47986          10325  Sausa Weizen          Hefeweizen   \n",
       "1       6.2        48213          10325      Red Moon  English Strong Ale   \n",
       "\n",
       "   review_appearance  review_palette  review_overall  review_taste  \\\n",
       "0                2.5             2.0             1.5           1.5   \n",
       "1                3.0             2.5             3.0           3.0   \n",
       "\n",
       "  review_profileName  review_aroma  \\\n",
       "0            stcules           1.5   \n",
       "1            stcules           3.0   \n",
       "\n",
       "                                         review_text  review_time  \n",
       "0  A lot of foam. But a lot. In the smell some ba...   1234817823  \n",
       "1  Dark red color, light beige foam, average. In ...   1235915097  "
      ]
     },
     "execution_count": 3,
     "metadata": {},
     "output_type": "execute_result"
    }
   ],
   "source": [
    "data.head(2)"
   ]
  },
  {
   "cell_type": "code",
   "execution_count": 4,
   "id": "f1e4da28",
   "metadata": {},
   "outputs": [],
   "source": [
    "data['review_time'] = pd.to_datetime(data['review_time'],unit='s') #convert number into datetime"
   ]
  },
  {
   "cell_type": "code",
   "execution_count": 5,
   "id": "0b29536a",
   "metadata": {},
   "outputs": [],
   "source": [
    "data['year'] = data['review_time'].dt.year #extract year from datetime column"
   ]
  },
  {
   "cell_type": "code",
   "execution_count": 6,
   "id": "c5103a68",
   "metadata": {},
   "outputs": [
    {
     "data": {
      "text/html": [
       "<div>\n",
       "<style scoped>\n",
       "    .dataframe tbody tr th:only-of-type {\n",
       "        vertical-align: middle;\n",
       "    }\n",
       "\n",
       "    .dataframe tbody tr th {\n",
       "        vertical-align: top;\n",
       "    }\n",
       "\n",
       "    .dataframe thead th {\n",
       "        text-align: right;\n",
       "    }\n",
       "</style>\n",
       "<table border=\"1\" class=\"dataframe\">\n",
       "  <thead>\n",
       "    <tr style=\"text-align: right;\">\n",
       "      <th></th>\n",
       "      <th>beer_ABV</th>\n",
       "      <th>beer_beerId</th>\n",
       "      <th>beer_brewerId</th>\n",
       "      <th>beer_name</th>\n",
       "      <th>beer_style</th>\n",
       "      <th>review_appearance</th>\n",
       "      <th>review_palette</th>\n",
       "      <th>review_overall</th>\n",
       "      <th>review_taste</th>\n",
       "      <th>review_profileName</th>\n",
       "      <th>review_aroma</th>\n",
       "      <th>review_text</th>\n",
       "      <th>review_time</th>\n",
       "      <th>year</th>\n",
       "    </tr>\n",
       "  </thead>\n",
       "  <tbody>\n",
       "    <tr>\n",
       "      <th>0</th>\n",
       "      <td>5.0</td>\n",
       "      <td>47986</td>\n",
       "      <td>10325</td>\n",
       "      <td>Sausa Weizen</td>\n",
       "      <td>Hefeweizen</td>\n",
       "      <td>2.5</td>\n",
       "      <td>2.0</td>\n",
       "      <td>1.5</td>\n",
       "      <td>1.5</td>\n",
       "      <td>stcules</td>\n",
       "      <td>1.5</td>\n",
       "      <td>A lot of foam. But a lot. In the smell some ba...</td>\n",
       "      <td>2009-02-16 20:57:03</td>\n",
       "      <td>2009</td>\n",
       "    </tr>\n",
       "    <tr>\n",
       "      <th>1</th>\n",
       "      <td>6.2</td>\n",
       "      <td>48213</td>\n",
       "      <td>10325</td>\n",
       "      <td>Red Moon</td>\n",
       "      <td>English Strong Ale</td>\n",
       "      <td>3.0</td>\n",
       "      <td>2.5</td>\n",
       "      <td>3.0</td>\n",
       "      <td>3.0</td>\n",
       "      <td>stcules</td>\n",
       "      <td>3.0</td>\n",
       "      <td>Dark red color, light beige foam, average. In ...</td>\n",
       "      <td>2009-03-01 13:44:57</td>\n",
       "      <td>2009</td>\n",
       "    </tr>\n",
       "  </tbody>\n",
       "</table>\n",
       "</div>"
      ],
      "text/plain": [
       "   beer_ABV  beer_beerId  beer_brewerId     beer_name          beer_style  \\\n",
       "0       5.0        47986          10325  Sausa Weizen          Hefeweizen   \n",
       "1       6.2        48213          10325      Red Moon  English Strong Ale   \n",
       "\n",
       "   review_appearance  review_palette  review_overall  review_taste  \\\n",
       "0                2.5             2.0             1.5           1.5   \n",
       "1                3.0             2.5             3.0           3.0   \n",
       "\n",
       "  review_profileName  review_aroma  \\\n",
       "0            stcules           1.5   \n",
       "1            stcules           3.0   \n",
       "\n",
       "                                         review_text         review_time  year  \n",
       "0  A lot of foam. But a lot. In the smell some ba... 2009-02-16 20:57:03  2009  \n",
       "1  Dark red color, light beige foam, average. In ... 2009-03-01 13:44:57  2009  "
      ]
     },
     "execution_count": 6,
     "metadata": {},
     "output_type": "execute_result"
    }
   ],
   "source": [
    "data.head(2)"
   ]
  },
  {
   "cell_type": "code",
   "execution_count": 7,
   "id": "c5c4d74d",
   "metadata": {},
   "outputs": [
    {
     "name": "stdout",
     "output_type": "stream",
     "text": [
      "<class 'pandas.core.frame.DataFrame'>\n",
      "RangeIndex: 528870 entries, 0 to 528869\n",
      "Data columns (total 14 columns):\n",
      " #   Column              Non-Null Count   Dtype         \n",
      "---  ------              --------------   -----         \n",
      " 0   beer_ABV            508590 non-null  float64       \n",
      " 1   beer_beerId         528870 non-null  int64         \n",
      " 2   beer_brewerId       528870 non-null  int64         \n",
      " 3   beer_name           528870 non-null  object        \n",
      " 4   beer_style          528870 non-null  object        \n",
      " 5   review_appearance   528870 non-null  float64       \n",
      " 6   review_palette      528870 non-null  float64       \n",
      " 7   review_overall      528870 non-null  float64       \n",
      " 8   review_taste        528870 non-null  float64       \n",
      " 9   review_profileName  528755 non-null  object        \n",
      " 10  review_aroma        528870 non-null  float64       \n",
      " 11  review_text         528751 non-null  object        \n",
      " 12  review_time         528870 non-null  datetime64[ns]\n",
      " 13  year                528870 non-null  int64         \n",
      "dtypes: datetime64[ns](1), float64(6), int64(3), object(4)\n",
      "memory usage: 56.5+ MB\n"
     ]
    }
   ],
   "source": [
    "data.info() #check dataframe information"
   ]
  },
  {
   "cell_type": "code",
   "execution_count": 8,
   "id": "809dd806",
   "metadata": {},
   "outputs": [
    {
     "data": {
      "text/plain": [
       "20200"
      ]
     },
     "execution_count": 8,
     "metadata": {},
     "output_type": "execute_result"
    }
   ],
   "source": [
    "data['beer_beerId'].nunique() #find number of unique beer id"
   ]
  },
  {
   "cell_type": "code",
   "execution_count": 9,
   "id": "fda3c800",
   "metadata": {},
   "outputs": [
    {
     "name": "stdout",
     "output_type": "stream",
     "text": [
      "0.01 57.7\n"
     ]
    }
   ],
   "source": [
    "#checking review count for each rating\n",
    "print(data['beer_ABV'].min(),data['beer_ABV'].max())"
   ]
  },
  {
   "cell_type": "code",
   "execution_count": 10,
   "id": "73e5003f",
   "metadata": {},
   "outputs": [
    {
     "data": {
      "text/plain": [
       "beer_ABV              20280\n",
       "beer_beerId               0\n",
       "beer_brewerId             0\n",
       "beer_name                 0\n",
       "beer_style                0\n",
       "review_appearance         0\n",
       "review_palette            0\n",
       "review_overall            0\n",
       "review_taste              0\n",
       "review_profileName      115\n",
       "review_aroma              0\n",
       "review_text             119\n",
       "review_time               0\n",
       "year                      0\n",
       "dtype: int64"
      ]
     },
     "execution_count": 10,
     "metadata": {},
     "output_type": "execute_result"
    }
   ],
   "source": [
    "data.isnull().sum()"
   ]
  },
  {
   "cell_type": "code",
   "execution_count": 11,
   "id": "98c4d34e",
   "metadata": {},
   "outputs": [],
   "source": [
    "data = data.dropna() #removing blank records"
   ]
  },
  {
   "cell_type": "code",
   "execution_count": 12,
   "id": "8554b130",
   "metadata": {},
   "outputs": [
    {
     "data": {
      "text/plain": [
       "4.0    189623\n",
       "4.5    107758\n",
       "3.5     94478\n",
       "3.0     50831\n",
       "5.0     30279\n",
       "2.5     17421\n",
       "2.0     11168\n",
       "1.5      3709\n",
       "1.0      3088\n",
       "0.0         3\n",
       "Name: review_overall, dtype: int64"
      ]
     },
     "execution_count": 12,
     "metadata": {},
     "output_type": "execute_result"
    }
   ],
   "source": [
    "data['review_overall'].value_counts()"
   ]
  },
  {
   "cell_type": "code",
   "execution_count": 13,
   "id": "ed8d6dc9",
   "metadata": {},
   "outputs": [],
   "source": [
    "aggrAbvDf = data.groupby(['beer_brewerId','beer_beerId']).agg(ABV_Size=('beer_ABV', 'count'), ABV_Mean=('beer_ABV', np.mean))"
   ]
  },
  {
   "cell_type": "code",
   "execution_count": 14,
   "id": "83e28d03",
   "metadata": {},
   "outputs": [
    {
     "data": {
      "text/html": [
       "<div>\n",
       "<style scoped>\n",
       "    .dataframe tbody tr th:only-of-type {\n",
       "        vertical-align: middle;\n",
       "    }\n",
       "\n",
       "    .dataframe tbody tr th {\n",
       "        vertical-align: top;\n",
       "    }\n",
       "\n",
       "    .dataframe thead th {\n",
       "        text-align: right;\n",
       "    }\n",
       "</style>\n",
       "<table border=\"1\" class=\"dataframe\">\n",
       "  <thead>\n",
       "    <tr style=\"text-align: right;\">\n",
       "      <th></th>\n",
       "      <th></th>\n",
       "      <th>ABV_Size</th>\n",
       "      <th>ABV_Mean</th>\n",
       "    </tr>\n",
       "    <tr>\n",
       "      <th>beer_brewerId</th>\n",
       "      <th>beer_beerId</th>\n",
       "      <th></th>\n",
       "      <th></th>\n",
       "    </tr>\n",
       "  </thead>\n",
       "  <tbody>\n",
       "    <tr>\n",
       "      <th rowspan=\"5\" valign=\"top\">1</th>\n",
       "      <th>429</th>\n",
       "      <td>1256</td>\n",
       "      <td>4.4</td>\n",
       "    </tr>\n",
       "    <tr>\n",
       "      <th>5916</th>\n",
       "      <td>46</td>\n",
       "      <td>5.0</td>\n",
       "    </tr>\n",
       "    <tr>\n",
       "      <th>14348</th>\n",
       "      <td>6</td>\n",
       "      <td>5.0</td>\n",
       "    </tr>\n",
       "    <tr>\n",
       "      <th>19099</th>\n",
       "      <td>4</td>\n",
       "      <td>4.2</td>\n",
       "    </tr>\n",
       "    <tr>\n",
       "      <th>19123</th>\n",
       "      <td>7</td>\n",
       "      <td>4.1</td>\n",
       "    </tr>\n",
       "  </tbody>\n",
       "</table>\n",
       "</div>"
      ],
      "text/plain": [
       "                           ABV_Size  ABV_Mean\n",
       "beer_brewerId beer_beerId                    \n",
       "1             429              1256       4.4\n",
       "              5916               46       5.0\n",
       "              14348               6       5.0\n",
       "              19099               4       4.2\n",
       "              19123               7       4.1"
      ]
     },
     "execution_count": 14,
     "metadata": {},
     "output_type": "execute_result"
    }
   ],
   "source": [
    "aggrAbvDf.head()"
   ]
  },
  {
   "cell_type": "code",
   "execution_count": 15,
   "id": "ce8d696e",
   "metadata": {},
   "outputs": [],
   "source": [
    "beer_ABVmeanDf = aggrAbvDf.groupby(level='beer_brewerId').mean()\n",
    "beer_ABVmeanDf.columns = ('mean_size', 'mean_beer_ABV')"
   ]
  },
  {
   "cell_type": "code",
   "execution_count": 16,
   "id": "a7b48753",
   "metadata": {},
   "outputs": [
    {
     "data": {
      "text/html": [
       "<div>\n",
       "<style scoped>\n",
       "    .dataframe tbody tr th:only-of-type {\n",
       "        vertical-align: middle;\n",
       "    }\n",
       "\n",
       "    .dataframe tbody tr th {\n",
       "        vertical-align: top;\n",
       "    }\n",
       "\n",
       "    .dataframe thead th {\n",
       "        text-align: right;\n",
       "    }\n",
       "</style>\n",
       "<table border=\"1\" class=\"dataframe\">\n",
       "  <thead>\n",
       "    <tr style=\"text-align: right;\">\n",
       "      <th></th>\n",
       "      <th>mean_size</th>\n",
       "      <th>mean_beer_ABV</th>\n",
       "    </tr>\n",
       "    <tr>\n",
       "      <th>beer_brewerId</th>\n",
       "      <th></th>\n",
       "      <th></th>\n",
       "    </tr>\n",
       "  </thead>\n",
       "  <tbody>\n",
       "    <tr>\n",
       "      <th>1</th>\n",
       "      <td>104.307692</td>\n",
       "      <td>4.876923</td>\n",
       "    </tr>\n",
       "    <tr>\n",
       "      <th>3</th>\n",
       "      <td>123.950000</td>\n",
       "      <td>6.237500</td>\n",
       "    </tr>\n",
       "    <tr>\n",
       "      <th>5</th>\n",
       "      <td>69.250000</td>\n",
       "      <td>4.837500</td>\n",
       "    </tr>\n",
       "    <tr>\n",
       "      <th>10</th>\n",
       "      <td>14.000000</td>\n",
       "      <td>4.625000</td>\n",
       "    </tr>\n",
       "    <tr>\n",
       "      <th>14</th>\n",
       "      <td>9.080645</td>\n",
       "      <td>6.588710</td>\n",
       "    </tr>\n",
       "  </tbody>\n",
       "</table>\n",
       "</div>"
      ],
      "text/plain": [
       "                mean_size  mean_beer_ABV\n",
       "beer_brewerId                           \n",
       "1              104.307692       4.876923\n",
       "3              123.950000       6.237500\n",
       "5               69.250000       4.837500\n",
       "10              14.000000       4.625000\n",
       "14               9.080645       6.588710"
      ]
     },
     "execution_count": 16,
     "metadata": {},
     "output_type": "execute_result"
    }
   ],
   "source": [
    "beer_ABVmeanDf.head()"
   ]
  },
  {
   "cell_type": "code",
   "execution_count": 17,
   "id": "5e5cf17a",
   "metadata": {},
   "outputs": [
    {
     "data": {
      "text/html": [
       "<div>\n",
       "<style scoped>\n",
       "    .dataframe tbody tr th:only-of-type {\n",
       "        vertical-align: middle;\n",
       "    }\n",
       "\n",
       "    .dataframe tbody tr th {\n",
       "        vertical-align: top;\n",
       "    }\n",
       "\n",
       "    .dataframe thead th {\n",
       "        text-align: right;\n",
       "    }\n",
       "</style>\n",
       "<table border=\"1\" class=\"dataframe\">\n",
       "  <thead>\n",
       "    <tr style=\"text-align: right;\">\n",
       "      <th></th>\n",
       "      <th>beer_brewerId</th>\n",
       "      <th>mean_size</th>\n",
       "      <th>mean_beer_ABV</th>\n",
       "    </tr>\n",
       "  </thead>\n",
       "  <tbody>\n",
       "    <tr>\n",
       "      <th>0</th>\n",
       "      <td>6513</td>\n",
       "      <td>3.4</td>\n",
       "      <td>24.690000</td>\n",
       "    </tr>\n",
       "    <tr>\n",
       "      <th>1</th>\n",
       "      <td>736</td>\n",
       "      <td>6.0</td>\n",
       "      <td>13.500000</td>\n",
       "    </tr>\n",
       "    <tr>\n",
       "      <th>2</th>\n",
       "      <td>24215</td>\n",
       "      <td>1.0</td>\n",
       "      <td>12.466667</td>\n",
       "    </tr>\n",
       "  </tbody>\n",
       "</table>\n",
       "</div>"
      ],
      "text/plain": [
       "   beer_brewerId  mean_size  mean_beer_ABV\n",
       "0           6513        3.4      24.690000\n",
       "1            736        6.0      13.500000\n",
       "2          24215        1.0      12.466667"
      ]
     },
     "execution_count": 17,
     "metadata": {},
     "output_type": "execute_result"
    }
   ],
   "source": [
    "beer_ABVmeanDf.sort_values('mean_beer_ABV', ascending=False).reset_index().head(3) # display top 3 breweries produces strongest beer"
   ]
  },
  {
   "cell_type": "code",
   "execution_count": 18,
   "id": "e4242baa",
   "metadata": {},
   "outputs": [],
   "source": [
    "#finding year with highest rating\n",
    "high_rating_df = data.groupby('year')['review_overall'].mean().rename('mean_overall_rating').reset_index().sort_values(by='mean_overall_rating', ascending=False)"
   ]
  },
  {
   "cell_type": "code",
   "execution_count": 19,
   "id": "ee3a946f",
   "metadata": {},
   "outputs": [
    {
     "data": {
      "text/html": [
       "<div>\n",
       "<style scoped>\n",
       "    .dataframe tbody tr th:only-of-type {\n",
       "        vertical-align: middle;\n",
       "    }\n",
       "\n",
       "    .dataframe tbody tr th {\n",
       "        vertical-align: top;\n",
       "    }\n",
       "\n",
       "    .dataframe thead th {\n",
       "        text-align: right;\n",
       "    }\n",
       "</style>\n",
       "<table border=\"1\" class=\"dataframe\">\n",
       "  <thead>\n",
       "    <tr style=\"text-align: right;\">\n",
       "      <th></th>\n",
       "      <th>year</th>\n",
       "      <th>mean_overall_rating</th>\n",
       "    </tr>\n",
       "  </thead>\n",
       "  <tbody>\n",
       "    <tr>\n",
       "      <th>2</th>\n",
       "      <td>2000</td>\n",
       "      <td>4.233333</td>\n",
       "    </tr>\n",
       "    <tr>\n",
       "      <th>0</th>\n",
       "      <td>1998</td>\n",
       "      <td>4.045455</td>\n",
       "    </tr>\n",
       "    <tr>\n",
       "      <th>1</th>\n",
       "      <td>1999</td>\n",
       "      <td>4.000000</td>\n",
       "    </tr>\n",
       "    <tr>\n",
       "      <th>3</th>\n",
       "      <td>2001</td>\n",
       "      <td>3.961896</td>\n",
       "    </tr>\n",
       "    <tr>\n",
       "      <th>12</th>\n",
       "      <td>2010</td>\n",
       "      <td>3.869430</td>\n",
       "    </tr>\n",
       "  </tbody>\n",
       "</table>\n",
       "</div>"
      ],
      "text/plain": [
       "    year  mean_overall_rating\n",
       "2   2000             4.233333\n",
       "0   1998             4.045455\n",
       "1   1999             4.000000\n",
       "3   2001             3.961896\n",
       "12  2010             3.869430"
      ]
     },
     "execution_count": 19,
     "metadata": {},
     "output_type": "execute_result"
    }
   ],
   "source": [
    "high_rating_df.head()"
   ]
  },
  {
   "cell_type": "code",
   "execution_count": 20,
   "id": "e8a28803",
   "metadata": {},
   "outputs": [
    {
     "data": {
      "text/plain": [
       "Text(0, 0.5, 'average rating')"
      ]
     },
     "execution_count": 20,
     "metadata": {},
     "output_type": "execute_result"
    },
    {
     "data": {
      "image/png": "[encoded data removed]",
      "text/plain": [
       "<Figure size 1080x576 with 1 Axes>"
      ]
     },
     "metadata": {
      "needs_background": "light"
     },
     "output_type": "display_data"
    }
   ],
   "source": [
    "plt.figure(figsize=(15,8))\n",
    "ax = sns.barplot(x=high_rating_df.year, y=high_rating_df.mean_overall_rating)\n",
    "ax.set_xlabel(\"year\")\n",
    "ax.set_ylabel(\"average rating\")"
   ]
  },
  {
   "cell_type": "code",
   "execution_count": 21,
   "id": "8ddaad90",
   "metadata": {},
   "outputs": [],
   "source": [
    "imp_factorDf = data.groupby(['beer_beerId']).agg(ABV_Size=('beer_beerId', np.size),\n",
    "                                                      Appear_Mean=('review_appearance', np.mean), \n",
    "                                                      palette_Mean=('review_palette', np.mean), \n",
    "                                                      taste_Mean=('review_taste', np.mean),\n",
    "                                                      Aroma_Mean=('review_aroma', np.mean),\n",
    "                                                      overall_Mean=('review_overall', np.mean)).reset_index()"
   ]
  },
  {
   "cell_type": "code",
   "execution_count": 22,
   "id": "cb021573",
   "metadata": {},
   "outputs": [
    {
     "data": {
      "text/html": [
       "<div>\n",
       "<style scoped>\n",
       "    .dataframe tbody tr th:only-of-type {\n",
       "        vertical-align: middle;\n",
       "    }\n",
       "\n",
       "    .dataframe tbody tr th {\n",
       "        vertical-align: top;\n",
       "    }\n",
       "\n",
       "    .dataframe thead th {\n",
       "        text-align: right;\n",
       "    }\n",
       "</style>\n",
       "<table border=\"1\" class=\"dataframe\">\n",
       "  <thead>\n",
       "    <tr style=\"text-align: right;\">\n",
       "      <th></th>\n",
       "      <th>beer_beerId</th>\n",
       "      <th>ABV_Size</th>\n",
       "      <th>Appear_Mean</th>\n",
       "      <th>palette_Mean</th>\n",
       "      <th>taste_Mean</th>\n",
       "      <th>Aroma_Mean</th>\n",
       "      <th>overall_Mean</th>\n",
       "    </tr>\n",
       "  </thead>\n",
       "  <tbody>\n",
       "    <tr>\n",
       "      <th>0</th>\n",
       "      <td>5</td>\n",
       "      <td>424</td>\n",
       "      <td>3.485849</td>\n",
       "      <td>3.205189</td>\n",
       "      <td>3.318396</td>\n",
       "      <td>3.340802</td>\n",
       "      <td>3.549528</td>\n",
       "    </tr>\n",
       "    <tr>\n",
       "      <th>1</th>\n",
       "      <td>6</td>\n",
       "      <td>877</td>\n",
       "      <td>3.836374</td>\n",
       "      <td>3.515964</td>\n",
       "      <td>3.513113</td>\n",
       "      <td>3.645382</td>\n",
       "      <td>3.706956</td>\n",
       "    </tr>\n",
       "    <tr>\n",
       "      <th>2</th>\n",
       "      <td>7</td>\n",
       "      <td>659</td>\n",
       "      <td>3.251138</td>\n",
       "      <td>3.179059</td>\n",
       "      <td>3.106980</td>\n",
       "      <td>3.101669</td>\n",
       "      <td>3.266313</td>\n",
       "    </tr>\n",
       "    <tr>\n",
       "      <th>3</th>\n",
       "      <td>8</td>\n",
       "      <td>68</td>\n",
       "      <td>3.294118</td>\n",
       "      <td>3.080882</td>\n",
       "      <td>3.301471</td>\n",
       "      <td>3.235294</td>\n",
       "      <td>3.647059</td>\n",
       "    </tr>\n",
       "    <tr>\n",
       "      <th>4</th>\n",
       "      <td>9</td>\n",
       "      <td>116</td>\n",
       "      <td>3.051724</td>\n",
       "      <td>2.853448</td>\n",
       "      <td>3.103448</td>\n",
       "      <td>3.043103</td>\n",
       "      <td>3.400862</td>\n",
       "    </tr>\n",
       "  </tbody>\n",
       "</table>\n",
       "</div>"
      ],
      "text/plain": [
       "   beer_beerId  ABV_Size  Appear_Mean  palette_Mean  taste_Mean  Aroma_Mean  \\\n",
       "0            5       424     3.485849      3.205189    3.318396    3.340802   \n",
       "1            6       877     3.836374      3.515964    3.513113    3.645382   \n",
       "2            7       659     3.251138      3.179059    3.106980    3.101669   \n",
       "3            8        68     3.294118      3.080882    3.301471    3.235294   \n",
       "4            9       116     3.051724      2.853448    3.103448    3.043103   \n",
       "\n",
       "   overall_Mean  \n",
       "0      3.549528  \n",
       "1      3.706956  \n",
       "2      3.266313  \n",
       "3      3.647059  \n",
       "4      3.400862  "
      ]
     },
     "execution_count": 22,
     "metadata": {},
     "output_type": "execute_result"
    }
   ],
   "source": [
    "imp_factorDf.head()"
   ]
  },
  {
   "cell_type": "code",
   "execution_count": 23,
   "id": "e1cd1763",
   "metadata": {},
   "outputs": [
    {
     "data": {
      "text/plain": [
       "<AxesSubplot:title={'center':\"Pearson's Correlations Coeff\"}>"
      ]
     },
     "execution_count": 23,
     "metadata": {},
     "output_type": "execute_result"
    },
    {
     "data": {
      "image/png": "[encoded data removed]",
      "text/plain": [
       "<Figure size 432x288 with 2 Axes>"
      ]
     },
     "metadata": {
      "needs_background": "light"
     },
     "output_type": "display_data"
    }
   ],
   "source": [
    "filter_df = imp_factorDf[['Appear_Mean','palette_Mean','taste_Mean','Aroma_Mean','overall_Mean']]\n",
    "corr_df = filter_df.corr()\n",
    "plt.title(\"Pearson's Correlations Coeff\")\n",
    "sns.heatmap(corr_df, \n",
    "        xticklabels=corr_df.columns,\n",
    "        yticklabels=corr_df.columns,annot=True)"
   ]
  },
  {
   "cell_type": "code",
   "execution_count": 24,
   "id": "00895b01",
   "metadata": {},
   "outputs": [],
   "source": [
    "#looking at above correlation matrix, we can conclude that Aroma, taste, and palette are the three important factors as they are highl correlated with overall score"
   ]
  },
  {
   "cell_type": "code",
   "execution_count": 25,
   "id": "b2123ea9",
   "metadata": {},
   "outputs": [],
   "source": [
    "# Counting the number of the reviews and average of overall rating per beer id\n",
    "\n",
    "data['review_count'] = data.groupby(['beer_beerId'])['review_overall'].transform('count')\n",
    "data['review_mean'] = data.groupby(['beer_beerId'])['review_overall'].transform('mean')"
   ]
  },
  {
   "cell_type": "code",
   "execution_count": 26,
   "id": "3291545e",
   "metadata": {},
   "outputs": [
    {
     "data": {
      "text/html": [
       "<div>\n",
       "<style scoped>\n",
       "    .dataframe tbody tr th:only-of-type {\n",
       "        vertical-align: middle;\n",
       "    }\n",
       "\n",
       "    .dataframe tbody tr th {\n",
       "        vertical-align: top;\n",
       "    }\n",
       "\n",
       "    .dataframe thead th {\n",
       "        text-align: right;\n",
       "    }\n",
       "</style>\n",
       "<table border=\"1\" class=\"dataframe\">\n",
       "  <thead>\n",
       "    <tr style=\"text-align: right;\">\n",
       "      <th></th>\n",
       "      <th>beer_ABV</th>\n",
       "      <th>beer_beerId</th>\n",
       "      <th>beer_brewerId</th>\n",
       "      <th>beer_name</th>\n",
       "      <th>beer_style</th>\n",
       "      <th>review_appearance</th>\n",
       "      <th>review_palette</th>\n",
       "      <th>review_overall</th>\n",
       "      <th>review_taste</th>\n",
       "      <th>review_profileName</th>\n",
       "      <th>review_aroma</th>\n",
       "      <th>review_text</th>\n",
       "      <th>review_time</th>\n",
       "      <th>year</th>\n",
       "      <th>review_count</th>\n",
       "      <th>review_mean</th>\n",
       "    </tr>\n",
       "  </thead>\n",
       "  <tbody>\n",
       "    <tr>\n",
       "      <th>0</th>\n",
       "      <td>5.0</td>\n",
       "      <td>47986</td>\n",
       "      <td>10325</td>\n",
       "      <td>Sausa Weizen</td>\n",
       "      <td>Hefeweizen</td>\n",
       "      <td>2.5</td>\n",
       "      <td>2.0</td>\n",
       "      <td>1.5</td>\n",
       "      <td>1.5</td>\n",
       "      <td>stcules</td>\n",
       "      <td>1.5</td>\n",
       "      <td>A lot of foam. But a lot. In the smell some ba...</td>\n",
       "      <td>2009-02-16 20:57:03</td>\n",
       "      <td>2009</td>\n",
       "      <td>1</td>\n",
       "      <td>1.5</td>\n",
       "    </tr>\n",
       "    <tr>\n",
       "      <th>1</th>\n",
       "      <td>6.2</td>\n",
       "      <td>48213</td>\n",
       "      <td>10325</td>\n",
       "      <td>Red Moon</td>\n",
       "      <td>English Strong Ale</td>\n",
       "      <td>3.0</td>\n",
       "      <td>2.5</td>\n",
       "      <td>3.0</td>\n",
       "      <td>3.0</td>\n",
       "      <td>stcules</td>\n",
       "      <td>3.0</td>\n",
       "      <td>Dark red color, light beige foam, average. In ...</td>\n",
       "      <td>2009-03-01 13:44:57</td>\n",
       "      <td>2009</td>\n",
       "      <td>1</td>\n",
       "      <td>3.0</td>\n",
       "    </tr>\n",
       "  </tbody>\n",
       "</table>\n",
       "</div>"
      ],
      "text/plain": [
       "   beer_ABV  beer_beerId  beer_brewerId     beer_name          beer_style  \\\n",
       "0       5.0        47986          10325  Sausa Weizen          Hefeweizen   \n",
       "1       6.2        48213          10325      Red Moon  English Strong Ale   \n",
       "\n",
       "   review_appearance  review_palette  review_overall  review_taste  \\\n",
       "0                2.5             2.0             1.5           1.5   \n",
       "1                3.0             2.5             3.0           3.0   \n",
       "\n",
       "  review_profileName  review_aroma  \\\n",
       "0            stcules           1.5   \n",
       "1            stcules           3.0   \n",
       "\n",
       "                                         review_text         review_time  \\\n",
       "0  A lot of foam. But a lot. In the smell some ba... 2009-02-16 20:57:03   \n",
       "1  Dark red color, light beige foam, average. In ... 2009-03-01 13:44:57   \n",
       "\n",
       "   year  review_count  review_mean  \n",
       "0  2009             1          1.5  \n",
       "1  2009             1          3.0  "
      ]
     },
     "execution_count": 26,
     "metadata": {},
     "output_type": "execute_result"
    }
   ],
   "source": [
    "data.head(2)"
   ]
  },
  {
   "cell_type": "code",
   "execution_count": 27,
   "id": "359698c2",
   "metadata": {},
   "outputs": [],
   "source": [
    "data[\"Rank\"] = data[[\"review_count\",\"review_mean\"]].apply(tuple,axis=1)\\\n",
    "             .rank(method='dense',ascending=False).astype(int) #apply rank basis on average rating and number of ratings"
   ]
  },
  {
   "cell_type": "code",
   "execution_count": 28,
   "id": "11ad90b1",
   "metadata": {
    "scrolled": true
   },
   "outputs": [
    {
     "data": {
      "text/html": [
       "<div>\n",
       "<style scoped>\n",
       "    .dataframe tbody tr th:only-of-type {\n",
       "        vertical-align: middle;\n",
       "    }\n",
       "\n",
       "    .dataframe tbody tr th {\n",
       "        vertical-align: top;\n",
       "    }\n",
       "\n",
       "    .dataframe thead th {\n",
       "        text-align: right;\n",
       "    }\n",
       "</style>\n",
       "<table border=\"1\" class=\"dataframe\">\n",
       "  <thead>\n",
       "    <tr style=\"text-align: right;\">\n",
       "      <th></th>\n",
       "      <th>beer_beerId</th>\n",
       "      <th>beer_name</th>\n",
       "      <th>review_count</th>\n",
       "      <th>review_mean</th>\n",
       "      <th>Rank</th>\n",
       "    </tr>\n",
       "  </thead>\n",
       "  <tbody>\n",
       "    <tr>\n",
       "      <th>84839</th>\n",
       "      <td>1904</td>\n",
       "      <td>Sierra Nevada Celebration Ale</td>\n",
       "      <td>2998</td>\n",
       "      <td>4.168446</td>\n",
       "      <td>1</td>\n",
       "    </tr>\n",
       "    <tr>\n",
       "      <th>91265</th>\n",
       "      <td>276</td>\n",
       "      <td>Sierra Nevada Pale Ale</td>\n",
       "      <td>2586</td>\n",
       "      <td>4.245940</td>\n",
       "      <td>2</td>\n",
       "    </tr>\n",
       "    <tr>\n",
       "      <th>22138</th>\n",
       "      <td>11757</td>\n",
       "      <td>Founders Breakfast Stout</td>\n",
       "      <td>2501</td>\n",
       "      <td>4.354658</td>\n",
       "      <td>3</td>\n",
       "    </tr>\n",
       "  </tbody>\n",
       "</table>\n",
       "</div>"
      ],
      "text/plain": [
       "       beer_beerId                      beer_name  review_count  review_mean  \\\n",
       "84839         1904  Sierra Nevada Celebration Ale          2998     4.168446   \n",
       "91265          276         Sierra Nevada Pale Ale          2586     4.245940   \n",
       "22138        11757       Founders Breakfast Stout          2501     4.354658   \n",
       "\n",
       "       Rank  \n",
       "84839     1  \n",
       "91265     2  \n",
       "22138     3  "
      ]
     },
     "execution_count": 28,
     "metadata": {},
     "output_type": "execute_result"
    }
   ],
   "source": [
    "recommenddf = data[data[\"Rank\"] <= 3] #selecting top 3 using rank\n",
    "recommenddf = recommenddf[['beer_beerId','beer_name','review_count','review_mean','Rank']] #selecting reuired columns\n",
    "recommenddf.sort_values(by='Rank', ascending=True,inplace=True)\n",
    "recommenddf.drop_duplicates(keep='first') #removing duplicates"
   ]
  },
  {
   "cell_type": "code",
   "execution_count": 29,
   "id": "7ce32c5a",
   "metadata": {},
   "outputs": [],
   "source": [
    "#looking at above table we can say that Sierra Nevada Celebration Ale,Sierra Nevada Pale Ale,and Founders Breakfast Stout have received highest number of ratings.Most of the people are recommending above 3 beers."
   ]
  },
  {
   "cell_type": "code",
   "execution_count": 30,
   "id": "9953eda6",
   "metadata": {},
   "outputs": [],
   "source": [
    "analyzer = SentimentIntensityAnalyzer()\n",
    "data['compound'] = [analyzer.polarity_scores(x)['compound'] for x in data['review_text']] #finding out polarity score of each written review"
   ]
  },
  {
   "cell_type": "code",
   "execution_count": 31,
   "id": "1a22b3d3",
   "metadata": {},
   "outputs": [
    {
     "data": {
      "text/plain": [
       "4.0    189623\n",
       "4.5    107758\n",
       "3.5     94478\n",
       "3.0     50831\n",
       "5.0     30279\n",
       "2.5     17421\n",
       "2.0     11168\n",
       "1.5      3709\n",
       "1.0      3088\n",
       "0.0         3\n",
       "Name: review_overall, dtype: int64"
      ]
     },
     "execution_count": 31,
     "metadata": {},
     "output_type": "execute_result"
    }
   ],
   "source": [
    "data['review_overall'].value_counts()"
   ]
  },
  {
   "cell_type": "code",
   "execution_count": 32,
   "id": "fec1b939",
   "metadata": {},
   "outputs": [],
   "source": [
    "data['score'] = np.where(data['review_overall']>= 4,'Promoters',\n",
    "                        np.where((data['review_overall']>2) & (data['review_overall']<4),'Passives',\n",
    "                                np.where(data['review_overall']<=2,'Detractors','Others')))  #classifying overall review in promoters, passives, detractors"
   ]
  },
  {
   "cell_type": "code",
   "execution_count": 33,
   "id": "7d233fd1",
   "metadata": {},
   "outputs": [
    {
     "data": {
      "text/plain": [
       "Promoters     327660\n",
       "Passives      162730\n",
       "Detractors     17968\n",
       "Name: score, dtype: int64"
      ]
     },
     "execution_count": 33,
     "metadata": {},
     "output_type": "execute_result"
    }
   ],
   "source": [
    "data['score'].value_counts()"
   ]
  },
  {
   "cell_type": "code",
   "execution_count": 34,
   "id": "53dd12c1",
   "metadata": {},
   "outputs": [
    {
     "name": "stdout",
     "output_type": "stream",
     "text": [
      "-0.9969 0.9999\n"
     ]
    }
   ],
   "source": [
    "print(data['compound'].min(),data['compound'].max())"
   ]
  },
  {
   "cell_type": "code",
   "execution_count": 35,
   "id": "8bf44ca6",
   "metadata": {},
   "outputs": [],
   "source": [
    "data['polarity_avg'] = data.groupby('beer_style')['compound'].transform('mean') #finding average polarity score by beer style"
   ]
  },
  {
   "cell_type": "code",
   "execution_count": 36,
   "id": "78ce08a6",
   "metadata": {},
   "outputs": [
    {
     "data": {
      "text/html": [
       "<div>\n",
       "<style scoped>\n",
       "    .dataframe tbody tr th:only-of-type {\n",
       "        vertical-align: middle;\n",
       "    }\n",
       "\n",
       "    .dataframe tbody tr th {\n",
       "        vertical-align: top;\n",
       "    }\n",
       "\n",
       "    .dataframe thead th {\n",
       "        text-align: right;\n",
       "    }\n",
       "</style>\n",
       "<table border=\"1\" class=\"dataframe\">\n",
       "  <thead>\n",
       "    <tr style=\"text-align: right;\">\n",
       "      <th></th>\n",
       "      <th>beer_ABV</th>\n",
       "      <th>beer_beerId</th>\n",
       "      <th>beer_brewerId</th>\n",
       "      <th>beer_name</th>\n",
       "      <th>beer_style</th>\n",
       "      <th>review_appearance</th>\n",
       "      <th>review_palette</th>\n",
       "      <th>review_overall</th>\n",
       "      <th>review_taste</th>\n",
       "      <th>review_profileName</th>\n",
       "      <th>review_aroma</th>\n",
       "      <th>review_text</th>\n",
       "      <th>review_time</th>\n",
       "      <th>year</th>\n",
       "      <th>review_count</th>\n",
       "      <th>review_mean</th>\n",
       "      <th>Rank</th>\n",
       "      <th>compound</th>\n",
       "      <th>score</th>\n",
       "      <th>polarity_avg</th>\n",
       "    </tr>\n",
       "  </thead>\n",
       "  <tbody>\n",
       "    <tr>\n",
       "      <th>342200</th>\n",
       "      <td>11.3</td>\n",
       "      <td>645</td>\n",
       "      <td>207</td>\n",
       "      <td>Trappistes Rochefort 10</td>\n",
       "      <td>Quadrupel (Quad)</td>\n",
       "      <td>4.0</td>\n",
       "      <td>4.5</td>\n",
       "      <td>4.0</td>\n",
       "      <td>4.5</td>\n",
       "      <td>zoso493</td>\n",
       "      <td>4.5</td>\n",
       "      <td>Poured from a 330 ml bottle (is there another ...</td>\n",
       "      <td>2009-10-27 20:16:13</td>\n",
       "      <td>2009</td>\n",
       "      <td>2170</td>\n",
       "      <td>4.339401</td>\n",
       "      <td>8</td>\n",
       "      <td>0.9896</td>\n",
       "      <td>Promoters</td>\n",
       "      <td>0.857195</td>\n",
       "    </tr>\n",
       "    <tr>\n",
       "      <th>341394</th>\n",
       "      <td>11.3</td>\n",
       "      <td>645</td>\n",
       "      <td>207</td>\n",
       "      <td>Trappistes Rochefort 10</td>\n",
       "      <td>Quadrupel (Quad)</td>\n",
       "      <td>4.5</td>\n",
       "      <td>4.5</td>\n",
       "      <td>4.0</td>\n",
       "      <td>4.0</td>\n",
       "      <td>Bourre</td>\n",
       "      <td>4.5</td>\n",
       "      <td>An amazing opaque brown color. The head quickl...</td>\n",
       "      <td>2004-03-25 23:31:17</td>\n",
       "      <td>2004</td>\n",
       "      <td>2170</td>\n",
       "      <td>4.339401</td>\n",
       "      <td>8</td>\n",
       "      <td>0.9676</td>\n",
       "      <td>Promoters</td>\n",
       "      <td>0.857195</td>\n",
       "    </tr>\n",
       "  </tbody>\n",
       "</table>\n",
       "</div>"
      ],
      "text/plain": [
       "        beer_ABV  beer_beerId  beer_brewerId                beer_name  \\\n",
       "342200      11.3          645            207  Trappistes Rochefort 10   \n",
       "341394      11.3          645            207  Trappistes Rochefort 10   \n",
       "\n",
       "              beer_style  review_appearance  review_palette  review_overall  \\\n",
       "342200  Quadrupel (Quad)                4.0             4.5             4.0   \n",
       "341394  Quadrupel (Quad)                4.5             4.5             4.0   \n",
       "\n",
       "        review_taste review_profileName  review_aroma  \\\n",
       "342200           4.5            zoso493           4.5   \n",
       "341394           4.0             Bourre           4.5   \n",
       "\n",
       "                                              review_text         review_time  \\\n",
       "342200  Poured from a 330 ml bottle (is there another ... 2009-10-27 20:16:13   \n",
       "341394  An amazing opaque brown color. The head quickl... 2004-03-25 23:31:17   \n",
       "\n",
       "        year  review_count  review_mean  Rank  compound      score  \\\n",
       "342200  2009          2170     4.339401     8    0.9896  Promoters   \n",
       "341394  2004          2170     4.339401     8    0.9676  Promoters   \n",
       "\n",
       "        polarity_avg  \n",
       "342200      0.857195  \n",
       "341394      0.857195  "
      ]
     },
     "execution_count": 36,
     "metadata": {},
     "output_type": "execute_result"
    }
   ],
   "source": [
    "data.sort_values(by='polarity_avg',ascending=False).head(2)"
   ]
  },
  {
   "cell_type": "code",
   "execution_count": 37,
   "id": "84815f80",
   "metadata": {},
   "outputs": [
    {
     "name": "stdout",
     "output_type": "stream",
     "text": [
      "Quadrupel (Quad)             4822\n",
      "Flanders Red Ale             2782\n",
      "Dortmunder / Export Lager    1723\n",
      "Braggot                       198\n",
      "Roggenbier                    140\n",
      "Name: beer_style, dtype: int64 beer_style\n",
      "Braggot                      0.850845\n",
      "Dortmunder / Export Lager    0.855512\n",
      "Flanders Red Ale             0.850987\n",
      "Quadrupel (Quad)             0.857195\n",
      "Roggenbier                   0.852447\n",
      "Name: polarity_avg, dtype: float64\n"
     ]
    }
   ],
   "source": [
    "print(data[data['polarity_avg']>=0.85]['beer_style'].value_counts(),data[data['polarity_avg']>=0.85].groupby('beer_style')['polarity_avg'].mean())  # looking at below data we can say that Quadrupel (Quad) is having highest average polarity score so this beer style is the most favorite among others considering written review"
   ]
  },
  {
   "cell_type": "code",
   "execution_count": 38,
   "id": "6772dcf2",
   "metadata": {},
   "outputs": [
    {
     "data": {
      "text/plain": [
       "review_overall\n",
       "5.0    0.894135\n",
       "4.5    0.884584\n",
       "4.0    0.832154\n",
       "3.5    0.723241\n",
       "3.0    0.584639\n",
       "2.5    0.437646\n",
       "2.0    0.301394\n",
       "1.5    0.159372\n",
       "1.0    0.012984\n",
       "0.0   -0.638067\n",
       "Name: avearge_polarity_sore, dtype: float64"
      ]
     },
     "execution_count": 38,
     "metadata": {},
     "output_type": "execute_result"
    }
   ],
   "source": [
    "data.groupby('review_overall')['compound'].mean().rename('avearge_polarity_sore').sort_values(ascending=False) #looking at below data we can say that there is a correlation between the overall review and written review"
   ]
  },
  {
   "cell_type": "code",
   "execution_count": 61,
   "id": "f7ed77db",
   "metadata": {},
   "outputs": [],
   "source": [
    "similerDf = data.sort_values(by=['review_overall'],ascending=False)"
   ]
  },
  {
   "cell_type": "code",
   "execution_count": 62,
   "id": "0b244d00",
   "metadata": {},
   "outputs": [
    {
     "data": {
      "text/html": [
       "<div>\n",
       "<style scoped>\n",
       "    .dataframe tbody tr th:only-of-type {\n",
       "        vertical-align: middle;\n",
       "    }\n",
       "\n",
       "    .dataframe tbody tr th {\n",
       "        vertical-align: top;\n",
       "    }\n",
       "\n",
       "    .dataframe thead th {\n",
       "        text-align: right;\n",
       "    }\n",
       "</style>\n",
       "<table border=\"1\" class=\"dataframe\">\n",
       "  <thead>\n",
       "    <tr style=\"text-align: right;\">\n",
       "      <th></th>\n",
       "      <th>beer_ABV</th>\n",
       "      <th>beer_beerId</th>\n",
       "      <th>beer_brewerId</th>\n",
       "      <th>beer_name</th>\n",
       "      <th>beer_style</th>\n",
       "      <th>review_appearance</th>\n",
       "      <th>review_palette</th>\n",
       "      <th>review_overall</th>\n",
       "      <th>review_taste</th>\n",
       "      <th>review_profileName</th>\n",
       "      <th>review_aroma</th>\n",
       "      <th>review_text</th>\n",
       "      <th>review_time</th>\n",
       "      <th>year</th>\n",
       "      <th>review_count</th>\n",
       "      <th>review_mean</th>\n",
       "      <th>Rank</th>\n",
       "      <th>compound</th>\n",
       "      <th>score</th>\n",
       "      <th>polarity_avg</th>\n",
       "    </tr>\n",
       "  </thead>\n",
       "  <tbody>\n",
       "    <tr>\n",
       "      <th>492945</th>\n",
       "      <td>6.2</td>\n",
       "      <td>1339</td>\n",
       "      <td>132</td>\n",
       "      <td>Hazelnut Brown Nectar</td>\n",
       "      <td>American Brown Ale</td>\n",
       "      <td>4.5</td>\n",
       "      <td>3.0</td>\n",
       "      <td>5.0</td>\n",
       "      <td>4.5</td>\n",
       "      <td>prosper</td>\n",
       "      <td>5.0</td>\n",
       "      <td>Served at ~15C. Gorgeous pour. Nut brown, slig...</td>\n",
       "      <td>2008-09-09 23:35:21</td>\n",
       "      <td>2008</td>\n",
       "      <td>1256</td>\n",
       "      <td>4.054538</td>\n",
       "      <td>50</td>\n",
       "      <td>0.9328</td>\n",
       "      <td>Promoters</td>\n",
       "      <td>0.772053</td>\n",
       "    </tr>\n",
       "    <tr>\n",
       "      <th>172728</th>\n",
       "      <td>4.7</td>\n",
       "      <td>689</td>\n",
       "      <td>221</td>\n",
       "      <td>Red Stripe Jamaican Lager</td>\n",
       "      <td>American Adjunct Lager</td>\n",
       "      <td>5.0</td>\n",
       "      <td>3.0</td>\n",
       "      <td>5.0</td>\n",
       "      <td>4.5</td>\n",
       "      <td>AussieInPhilly</td>\n",
       "      <td>4.0</td>\n",
       "      <td>This beer is tops. The crisp, yet smooth taste...</td>\n",
       "      <td>2005-10-13 08:35:11</td>\n",
       "      <td>2005</td>\n",
       "      <td>894</td>\n",
       "      <td>3.370246</td>\n",
       "      <td>102</td>\n",
       "      <td>0.9054</td>\n",
       "      <td>Promoters</td>\n",
       "      <td>0.579283</td>\n",
       "    </tr>\n",
       "  </tbody>\n",
       "</table>\n",
       "</div>"
      ],
      "text/plain": [
       "        beer_ABV  beer_beerId  beer_brewerId                  beer_name  \\\n",
       "492945       6.2         1339            132      Hazelnut Brown Nectar   \n",
       "172728       4.7          689            221  Red Stripe Jamaican Lager   \n",
       "\n",
       "                    beer_style  review_appearance  review_palette  \\\n",
       "492945      American Brown Ale                4.5             3.0   \n",
       "172728  American Adjunct Lager                5.0             3.0   \n",
       "\n",
       "        review_overall  review_taste review_profileName  review_aroma  \\\n",
       "492945             5.0           4.5            prosper           5.0   \n",
       "172728             5.0           4.5     AussieInPhilly           4.0   \n",
       "\n",
       "                                              review_text         review_time  \\\n",
       "492945  Served at ~15C. Gorgeous pour. Nut brown, slig... 2008-09-09 23:35:21   \n",
       "172728  This beer is tops. The crisp, yet smooth taste... 2005-10-13 08:35:11   \n",
       "\n",
       "        year  review_count  review_mean  Rank  compound      score  \\\n",
       "492945  2008          1256     4.054538    50    0.9328  Promoters   \n",
       "172728  2005           894     3.370246   102    0.9054  Promoters   \n",
       "\n",
       "        polarity_avg  \n",
       "492945      0.772053  \n",
       "172728      0.579283  "
      ]
     },
     "execution_count": 62,
     "metadata": {},
     "output_type": "execute_result"
    }
   ],
   "source": [
    "similerDf.head(2)"
   ]
  },
  {
   "cell_type": "code",
   "execution_count": 63,
   "id": "008748f0",
   "metadata": {},
   "outputs": [
    {
     "data": {
      "text/plain": [
       "22563"
      ]
     },
     "execution_count": 63,
     "metadata": {},
     "output_type": "execute_result"
    }
   ],
   "source": [
    "similerDf['review_profileName'].nunique()"
   ]
  },
  {
   "cell_type": "code",
   "execution_count": 64,
   "id": "8c43c31e",
   "metadata": {},
   "outputs": [],
   "source": [
    "similerDf.drop_duplicates(subset=['review_profileName'],keep='first',inplace=True)"
   ]
  },
  {
   "cell_type": "code",
   "execution_count": 68,
   "id": "371417b5",
   "metadata": {},
   "outputs": [],
   "source": [
    "similerDf1 = similerDf.groupby(['beer_name']).agg(average_polarity=('compound', 'mean'), unique_no_users=('review_profileName', 'nunique')).reset_index()"
   ]
  },
  {
   "cell_type": "code",
   "execution_count": 70,
   "id": "23dca9a2",
   "metadata": {},
   "outputs": [
    {
     "data": {
      "text/html": [
       "<div>\n",
       "<style scoped>\n",
       "    .dataframe tbody tr th:only-of-type {\n",
       "        vertical-align: middle;\n",
       "    }\n",
       "\n",
       "    .dataframe tbody tr th {\n",
       "        vertical-align: top;\n",
       "    }\n",
       "\n",
       "    .dataframe thead th {\n",
       "        text-align: right;\n",
       "    }\n",
       "</style>\n",
       "<table border=\"1\" class=\"dataframe\">\n",
       "  <thead>\n",
       "    <tr style=\"text-align: right;\">\n",
       "      <th></th>\n",
       "      <th>beer_name</th>\n",
       "      <th>average_polarity</th>\n",
       "      <th>unique_no_users</th>\n",
       "    </tr>\n",
       "  </thead>\n",
       "  <tbody>\n",
       "    <tr>\n",
       "      <th>2866</th>\n",
       "      <td>Tröegs Nugget Nectar</td>\n",
       "      <td>0.909621</td>\n",
       "      <td>451</td>\n",
       "    </tr>\n",
       "    <tr>\n",
       "      <th>1582</th>\n",
       "      <td>La Fin Du Monde</td>\n",
       "      <td>0.883453</td>\n",
       "      <td>339</td>\n",
       "    </tr>\n",
       "    <tr>\n",
       "      <th>982</th>\n",
       "      <td>Founders Breakfast Stout</td>\n",
       "      <td>0.897526</td>\n",
       "      <td>334</td>\n",
       "    </tr>\n",
       "    <tr>\n",
       "      <th>636</th>\n",
       "      <td>Chimay Grande Réserve (Blue)</td>\n",
       "      <td>0.871512</td>\n",
       "      <td>283</td>\n",
       "    </tr>\n",
       "    <tr>\n",
       "      <th>2521</th>\n",
       "      <td>Sierra Nevada Pale Ale</td>\n",
       "      <td>0.834654</td>\n",
       "      <td>273</td>\n",
       "    </tr>\n",
       "    <tr>\n",
       "      <th>...</th>\n",
       "      <td>...</td>\n",
       "      <td>...</td>\n",
       "      <td>...</td>\n",
       "    </tr>\n",
       "    <tr>\n",
       "      <th>1396</th>\n",
       "      <td>Ichtegems Ale (Oud Bruin)</td>\n",
       "      <td>0.944900</td>\n",
       "      <td>1</td>\n",
       "    </tr>\n",
       "    <tr>\n",
       "      <th>1390</th>\n",
       "      <td>I-beam Alt</td>\n",
       "      <td>0.994100</td>\n",
       "      <td>1</td>\n",
       "    </tr>\n",
       "    <tr>\n",
       "      <th>1389</th>\n",
       "      <td>Høst Bryg Kirsebær</td>\n",
       "      <td>0.605800</td>\n",
       "      <td>1</td>\n",
       "    </tr>\n",
       "    <tr>\n",
       "      <th>1388</th>\n",
       "      <td>Hyland's Sturbridge Farmhand Ale</td>\n",
       "      <td>0.989700</td>\n",
       "      <td>1</td>\n",
       "    </tr>\n",
       "    <tr>\n",
       "      <th>1557</th>\n",
       "      <td>Kozlak</td>\n",
       "      <td>0.948400</td>\n",
       "      <td>1</td>\n",
       "    </tr>\n",
       "  </tbody>\n",
       "</table>\n",
       "<p>3114 rows × 3 columns</p>\n",
       "</div>"
      ],
      "text/plain": [
       "                             beer_name  average_polarity  unique_no_users\n",
       "2866              Tröegs Nugget Nectar          0.909621              451\n",
       "1582                   La Fin Du Monde          0.883453              339\n",
       "982           Founders Breakfast Stout          0.897526              334\n",
       "636       Chimay Grande Réserve (Blue)          0.871512              283\n",
       "2521            Sierra Nevada Pale Ale          0.834654              273\n",
       "...                                ...               ...              ...\n",
       "1396         Ichtegems Ale (Oud Bruin)          0.944900                1\n",
       "1390                        I-beam Alt          0.994100                1\n",
       "1389                Høst Bryg Kirsebær          0.605800                1\n",
       "1388  Hyland's Sturbridge Farmhand Ale          0.989700                1\n",
       "1557                            Kozlak          0.948400                1\n",
       "\n",
       "[3114 rows x 3 columns]"
      ]
     },
     "execution_count": 70,
     "metadata": {},
     "output_type": "execute_result"
    }
   ],
   "source": [
    "similerDf1.sort_values(by = 'unique_no_users', ascending=False) #looking at below we can conclude that people giving positive feedback and unber of users recommending smae beer"
   ]
  },
  {
   "cell_type": "code",
   "execution_count": null,
   "id": "49ef2a6c",
   "metadata": {},
   "outputs": [],
   "source": []
  }
 ],
 "metadata": {
  "kernelspec": {
   "display_name": "Python 3 (ipykernel)",
   "language": "python",
   "name": "python3"
  },
  "language_info": {
   "codemirror_mode": {
    "name": "ipython",
    "version": 3
   },
   "file_extension": ".py",
   "mimetype": "text/x-python",
   "name": "python",
   "nbconvert_exporter": "python",
   "pygments_lexer": "ipython3",
   "version": "3.9.12"
  }
 },
 "nbformat": 4,
 "nbformat_minor": 5
}
